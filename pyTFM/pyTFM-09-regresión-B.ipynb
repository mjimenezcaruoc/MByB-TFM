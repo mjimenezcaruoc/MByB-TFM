{
    "metadata": {
        "kernelspec": {
            "name": "python3",
            "display_name": "Python 3 (ipykernel)",
            "language": "python"
        },
        "language_info": {
            "name": "python",
            "version": "3.9.7",
            "mimetype": "text/x-python",
            "codemirror_mode": {
                "name": "ipython",
                "version": 3
            },
            "pygments_lexer": "ipython3",
            "nbconvert_exporter": "python",
            "file_extension": ".py"
        }
    },
    "nbformat_minor": 2,
    "nbformat": 4,
    "cells": [
        {
            "cell_type": "markdown",
            "source": [
                "# TFM."
            ],
            "metadata": {
                "azdata_cell_guid": "44b80195-d0b5-4617-8d03-f4d43d60130c"
            },
            "attachments": {}
        },
        {
            "cell_type": "markdown",
            "source": [
                "## Regresión Logística con SKLearn"
            ],
            "metadata": {
                "azdata_cell_guid": "f269665b-30e8-49a9-a490-0a62051ce02a"
            },
            "attachments": {}
        },
        {
            "cell_type": "code",
            "source": [
                "import pyodbc\r\n",
                "\r\n",
                "server = 'BIOE-MAJC' \r\n",
                "database = 'bioe' \r\n",
                "username = 'bioe' \r\n",
                "password = 'oe@LoCaL' \r\n",
                "trusted = 'yes;' \r\n",
                "\r\n",
                "cnxn = pyodbc.connect('Driver={SQL Server};SERVER='+server+';DATABASE='+database+';ENCRYPT=no;'+username+';PWD='+ password)\r\n",
                "cursor = cnxn.cursor()\r\n",
                "\r\n",
                "import pandas as pd\r\n",
                ""
            ],
            "metadata": {
                "azdata_cell_guid": "4fef36f1-05fb-4c8d-b3e6-45e015baa72d",
                "language": "python"
            },
            "outputs": [],
            "execution_count": 1
        },
        {
            "cell_type": "markdown",
            "source": [
                "#### Algoritmo Regresión Logística"
            ],
            "metadata": {
                "azdata_cell_guid": "2cbf647e-f1a7-4d59-9f79-a5090a4a07c4"
            },
            "attachments": {}
        },
        {
            "cell_type": "code",
            "source": [
                "import numpy as np\n",
                "from sklearn import linear_model\n",
                "from sklearn import model_selection\n",
                "from sklearn.metrics import classification_report\n",
                "from sklearn.metrics import confusion_matrix\n",
                "from sklearn.metrics import accuracy_score\n",
                "import matplotlib.pyplot as plt\n",
                "import seaborn as sb\n",
                "%matplotlib inline\n",
                "\n",
                "query = \"SELECT dG_S,benchmark, CP_BFKV,CP_BL,CP_BT,CP_GKS,CP_HLPL,CP_MJPL,CP_MJ3h,CP_MJ2h,CP_MJ1,CP_MJ2,CP_MSBM,CP_MS,CP_Qa,CP_Qm,CP_Qp\" + \\\n",
                "  \",CP_RO,CP_SKOb,CP_SKOa,CP_SJKG,CP_TD,CP_TEl,CP_TEs,CP_TS,CP_VD,CP_SKOIP,AP_DCOMPLEX,AP_dDFIRE,AP_DFIRE2,CP_RMFCEN1\" + \\\n",
                "  \",CP_RMFCEN2,CP_RMFCA,CP_TB,CP_TSC,AP_T1,AP_T2,AP_DOPE,AP_DOPE_HR,AP_ACE,INSIDE,HBOND,PI_PI,CAT_PI,ALIPH,ZRANK,ZRANK2\" + \\\n",
                "  \",ROT_S,TRANS_S,NIPacking,NSC,FA_ATR,FA_REP,LK_SOLV,FA_PP,CG_VDW,CG_PP,CG_ENV,CG_BETA,HBOND2,AA_PROP,ROSETTADOCK,NHB\" + \\\n",
                "  \",ELE,DESOLV,VDW,PYDOCK_TOT,ODA,PROPNSTS,SIPPER,AP_OPUS_PSP,AP_GEOMETRIC,AP_DARS,AP_URS,AP_MPS,AP_W1,CP_D1,AP_calRW\" + \\\n",
                "  \",AP_calRWp,AP_PISA,FIREDOCK,FIREDOCK_AB,FIREDOCK_EI,CP_PIE,CP_DDG_U,CP_DDG_W,AP_DDG_U,AP_DDG_W,DDG_V FROM [bioe].[TFM].[tfm_NNaN0_S] ();\"\n",
                "\n",
                "df = pd.read_sql_query(query, cnxn)\n",
                "print(df.head(5))\n",
                "#print(df.loc[0,:])\n",
                "#print(df[[\"CP_BFKV\",\"CP_BL\"]])\n",
                ""
            ],
            "metadata": {
                "collapsed": false,
                "azdata_cell_guid": "5be12c1f-745f-461a-a8c4-1a72a42b0634",
                "language": "python"
            },
            "outputs": [
                {
                    "name": "stdout",
                    "text": "      Complex  benchmark  dG_S  CP_BFKV  CP_BL  CP_BT  CP_GKS  CP_HLPL  \\\n0   1A2K_C:AB          1     1  -0.8654 -6.506  -5.48    -8.0    -28.6   \n1    1ACB_E:I          1     1  -2.3756 -6.130  -7.74    -2.4    -34.0   \n2   1AHW_AB:C          1     1  -1.0114 -8.650  -4.96   -14.0    -34.2   \n3    1AK4_A:D          1     0   1.1344 -2.076  -3.98    -4.0    -12.0   \n4  1AKJ_AB:DE          1     0   1.5450 -4.558   2.74   -10.0    -26.8   \n\n   CP_MJPL  CP_MJ3h  ...  AP_PISA  FIREDOCK  FIREDOCK_AB  FIREDOCK_EI  \\\n0   -140.8    -2.96  ...  -0.2445    -58.02       -71.00       -25.76   \n1   -178.0   -11.50  ...  -0.4878    -88.88       -96.94       -62.16   \n2   -196.2     2.36  ...  -0.0288    -36.54       -67.22        -3.33   \n3   -122.4    -2.90  ...  -0.2250    -42.73       -47.67       -29.09   \n4   -191.2     4.64  ...  -0.2936    -45.19       -67.13        -4.81   \n\n     CP_PIE   CP_DDG_U   CP_DDG_W   AP_DDG_U   AP_DDG_W      DDG_V  \n0  1.138510  -4.560318  -3.938181  -2.889758 -10.427095 -20.766233  \n1  1.450095 -14.117442 -11.174416  -9.272135 -20.305172 -24.258426  \n2  1.475723 -16.656352 -14.857981 -25.095661 -33.166934 -23.903832  \n3  0.776228   1.860287   0.210000  -2.595091 -14.669532 -12.084007  \n4  1.071730  -5.766748 -13.540293 -10.178850 -14.587470 -18.982156  \n\n[5 rows x 90 columns]\n",
                    "output_type": "stream"
                },
                {
                    "name": "stderr",
                    "text": "C:\\Users\\coept\\AppData\\Local\\Temp\\ipykernel_20388\\2632812162.py:13: UserWarning: pandas only supports SQLAlchemy connectable (engine/connection) or database string URI or sqlite3 DBAPI2 connection. Other DBAPI2 objects are not tested. Please consider using SQLAlchemy.\n  df = pd.read_sql_query(query, cnxn)\n",
                    "output_type": "stream"
                }
            ],
            "execution_count": 2
        },
        {
            "cell_type": "code",
            "source": [
                "X_train, y_train = df.loc[df[\"benchmark\"] == 1][[\"CP_BFKV\",\"CP_BL\",\"CP_BT\",\"CP_GKS\",\"CP_HLPL\",\"CP_MJPL\",\"CP_MJ3h\",\"CP_MJ2h\",\"CP_MJ1\",\"CP_MJ2\",\"CP_MSBM\",\"CP_MS\",\"CP_Qa\",\"CP_Qm\",\"CP_Qp\" \\\r\n",
                "  ,\"CP_RO\",\"CP_SKOb\",\"CP_SKOa\",\"CP_SJKG\",\"CP_TD\",\"CP_TEl\",\"CP_TEs\",\"CP_TS\",\"CP_VD\",\"CP_SKOIP\",\"AP_DCOMPLEX\",\"AP_dDFIRE\",\"AP_DFIRE2\",\"CP_RMFCEN1\" \\\r\n",
                "  ,\"CP_RMFCEN2\",\"CP_RMFCA\",\"CP_TB\",\"CP_TSC\",\"AP_T1\",\"AP_T2\",\"AP_DOPE\",\"AP_DOPE_HR\",\"AP_ACE\",\"INSIDE\",\"HBOND\",\"PI_PI\",\"CAT_PI\",\"ALIPH\",\"ZRANK\",\"ZRANK2\" \\\r\n",
                "  ,\"ROT_S\",\"TRANS_S\",\"NIPacking\",\"NSC\",\"FA_ATR\",\"FA_REP\",\"LK_SOLV\",\"FA_PP\",\"CG_VDW\",\"CG_PP\",\"CG_ENV\",\"CG_BETA\",\"HBOND2\",\"AA_PROP\",\"ROSETTADOCK\",\"NHB\" \\\r\n",
                "  ,\"ELE\",\"DESOLV\",\"VDW\",\"PYDOCK_TOT\",\"ODA\",\"PROPNSTS\",\"SIPPER\",\"AP_OPUS_PSP\",\"AP_GEOMETRIC\",\"AP_DARS\",\"AP_URS\",\"AP_MPS\",\"AP_W1\",\"CP_D1\",\"AP_calRW\" \\\r\n",
                "  ,\"AP_calRWp\",\"AP_PISA\",\"FIREDOCK\",\"FIREDOCK_AB\",\"FIREDOCK_EI\",\"CP_PIE\",\"CP_DDG_U\",\"CP_DDG_W\",\"AP_DDG_U\",\"AP_DDG_W\",\"DDG_V\"]], df.loc[df[\"benchmark\"] == 1][\"dG_S\"]\r\n",
                "X_test, y_test = df.loc[df[\"benchmark\"] == 2][[\"CP_BFKV\",\"CP_BL\",\"CP_BT\",\"CP_GKS\",\"CP_HLPL\",\"CP_MJPL\",\"CP_MJ3h\",\"CP_MJ2h\",\"CP_MJ1\",\"CP_MJ2\",\"CP_MSBM\",\"CP_MS\",\"CP_Qa\",\"CP_Qm\",\"CP_Qp\" \\\r\n",
                "  ,\"CP_RO\",\"CP_SKOb\",\"CP_SKOa\",\"CP_SJKG\",\"CP_TD\",\"CP_TEl\",\"CP_TEs\",\"CP_TS\",\"CP_VD\",\"CP_SKOIP\",\"AP_DCOMPLEX\",\"AP_dDFIRE\",\"AP_DFIRE2\",\"CP_RMFCEN1\" \\\r\n",
                "  ,\"CP_RMFCEN2\",\"CP_RMFCA\",\"CP_TB\",\"CP_TSC\",\"AP_T1\",\"AP_T2\",\"AP_DOPE\",\"AP_DOPE_HR\",\"AP_ACE\",\"INSIDE\",\"HBOND\",\"PI_PI\",\"CAT_PI\",\"ALIPH\",\"ZRANK\",\"ZRANK2\" \\\r\n",
                "  ,\"ROT_S\",\"TRANS_S\",\"NIPacking\",\"NSC\",\"FA_ATR\",\"FA_REP\",\"LK_SOLV\",\"FA_PP\",\"CG_VDW\",\"CG_PP\",\"CG_ENV\",\"CG_BETA\",\"HBOND2\",\"AA_PROP\",\"ROSETTADOCK\",\"NHB\" \\\r\n",
                "  ,\"ELE\",\"DESOLV\",\"VDW\",\"PYDOCK_TOT\",\"ODA\",\"PROPNSTS\",\"SIPPER\",\"AP_OPUS_PSP\",\"AP_GEOMETRIC\",\"AP_DARS\",\"AP_URS\",\"AP_MPS\",\"AP_W1\",\"CP_D1\",\"AP_calRW\" \\\r\n",
                "  ,\"AP_calRWp\",\"AP_PISA\",\"FIREDOCK\",\"FIREDOCK_AB\",\"FIREDOCK_EI\",\"CP_PIE\",\"CP_DDG_U\",\"CP_DDG_W\",\"AP_DDG_U\",\"AP_DDG_W\",\"DDG_V\"]], df.loc[df[\"benchmark\"] == 2][\"dG_S\"]\r\n",
                "\r\n",
                "\r\n",
                "X = X_train\r\n",
                "y = y_train\r\n",
                "X.shape\r\n",
                ""
            ],
            "metadata": {
                "language": "python",
                "azdata_cell_guid": "0c17c3ad-3a6c-4acd-934f-484de2e87140"
            },
            "outputs": [
                {
                    "data": {
                        "text/plain": "(143, 87)"
                    },
                    "metadata": {},
                    "execution_count": 3,
                    "output_type": "execute_result"
                }
            ],
            "execution_count": 3
        },
        {
            "cell_type": "code",
            "source": [
                "model = linear_model.LogisticRegression(C=0.1,max_iter=10000)\r\n",
                "model.fit(X,y)\r\n",
                ""
            ],
            "metadata": {
                "language": "python",
                "azdata_cell_guid": "0fa0d9fd-8388-471b-925d-e279076eccc8"
            },
            "outputs": [
                {
                    "data": {
                        "text/plain": "LogisticRegression(C=0.1, max_iter=10000)",
                        "text/html": "<style>#sk-container-id-4 {color: black;background-color: white;}#sk-container-id-4 pre{padding: 0;}#sk-container-id-4 div.sk-toggleable {background-color: white;}#sk-container-id-4 label.sk-toggleable__label {cursor: pointer;display: block;width: 100%;margin-bottom: 0;padding: 0.3em;box-sizing: border-box;text-align: center;}#sk-container-id-4 label.sk-toggleable__label-arrow:before {content: \"▸\";float: left;margin-right: 0.25em;color: #696969;}#sk-container-id-4 label.sk-toggleable__label-arrow:hover:before {color: black;}#sk-container-id-4 div.sk-estimator:hover label.sk-toggleable__label-arrow:before {color: black;}#sk-container-id-4 div.sk-toggleable__content {max-height: 0;max-width: 0;overflow: hidden;text-align: left;background-color: #f0f8ff;}#sk-container-id-4 div.sk-toggleable__content pre {margin: 0.2em;color: black;border-radius: 0.25em;background-color: #f0f8ff;}#sk-container-id-4 input.sk-toggleable__control:checked~div.sk-toggleable__content {max-height: 200px;max-width: 100%;overflow: auto;}#sk-container-id-4 input.sk-toggleable__control:checked~label.sk-toggleable__label-arrow:before {content: \"▾\";}#sk-container-id-4 div.sk-estimator input.sk-toggleable__control:checked~label.sk-toggleable__label {background-color: #d4ebff;}#sk-container-id-4 div.sk-label input.sk-toggleable__control:checked~label.sk-toggleable__label {background-color: #d4ebff;}#sk-container-id-4 input.sk-hidden--visually {border: 0;clip: rect(1px 1px 1px 1px);clip: rect(1px, 1px, 1px, 1px);height: 1px;margin: -1px;overflow: hidden;padding: 0;position: absolute;width: 1px;}#sk-container-id-4 div.sk-estimator {font-family: monospace;background-color: #f0f8ff;border: 1px dotted black;border-radius: 0.25em;box-sizing: border-box;margin-bottom: 0.5em;}#sk-container-id-4 div.sk-estimator:hover {background-color: #d4ebff;}#sk-container-id-4 div.sk-parallel-item::after {content: \"\";width: 100%;border-bottom: 1px solid gray;flex-grow: 1;}#sk-container-id-4 div.sk-label:hover label.sk-toggleable__label {background-color: #d4ebff;}#sk-container-id-4 div.sk-serial::before {content: \"\";position: absolute;border-left: 1px solid gray;box-sizing: border-box;top: 0;bottom: 0;left: 50%;z-index: 0;}#sk-container-id-4 div.sk-serial {display: flex;flex-direction: column;align-items: center;background-color: white;padding-right: 0.2em;padding-left: 0.2em;position: relative;}#sk-container-id-4 div.sk-item {position: relative;z-index: 1;}#sk-container-id-4 div.sk-parallel {display: flex;align-items: stretch;justify-content: center;background-color: white;position: relative;}#sk-container-id-4 div.sk-item::before, #sk-container-id-4 div.sk-parallel-item::before {content: \"\";position: absolute;border-left: 1px solid gray;box-sizing: border-box;top: 0;bottom: 0;left: 50%;z-index: -1;}#sk-container-id-4 div.sk-parallel-item {display: flex;flex-direction: column;z-index: 1;position: relative;background-color: white;}#sk-container-id-4 div.sk-parallel-item:first-child::after {align-self: flex-end;width: 50%;}#sk-container-id-4 div.sk-parallel-item:last-child::after {align-self: flex-start;width: 50%;}#sk-container-id-4 div.sk-parallel-item:only-child::after {width: 0;}#sk-container-id-4 div.sk-dashed-wrapped {border: 1px dashed gray;margin: 0 0.4em 0.5em 0.4em;box-sizing: border-box;padding-bottom: 0.4em;background-color: white;}#sk-container-id-4 div.sk-label label {font-family: monospace;font-weight: bold;display: inline-block;line-height: 1.2em;}#sk-container-id-4 div.sk-label-container {text-align: center;}#sk-container-id-4 div.sk-container {/* jupyter's `normalize.less` sets `[hidden] { display: none; }` but bootstrap.min.css set `[hidden] { display: none !important; }` so we also need the `!important` here to be able to override the default hidden behavior on the sphinx rendered scikit-learn.org. See: https://github.com/scikit-learn/scikit-learn/issues/21755 */display: inline-block !important;position: relative;}#sk-container-id-4 div.sk-text-repr-fallback {display: none;}</style><div id=\"sk-container-id-4\" class=\"sk-top-container\"><div class=\"sk-text-repr-fallback\"><pre>LogisticRegression(C=0.1, max_iter=10000)</pre><b>In a Jupyter environment, please rerun this cell to show the HTML representation or trust the notebook. <br />On GitHub, the HTML representation is unable to render, please try loading this page with nbviewer.org.</b></div><div class=\"sk-container\" hidden><div class=\"sk-item\"><div class=\"sk-estimator sk-toggleable\"><input class=\"sk-toggleable__control sk-hidden--visually\" id=\"sk-estimator-id-4\" type=\"checkbox\" checked><label for=\"sk-estimator-id-4\" class=\"sk-toggleable__label sk-toggleable__label-arrow\">LogisticRegression</label><div class=\"sk-toggleable__content\"><pre>LogisticRegression(C=0.1, max_iter=10000)</pre></div></div></div></div></div>"
                    },
                    "metadata": {},
                    "execution_count": 7,
                    "output_type": "execute_result"
                }
            ],
            "execution_count": 7
        },
        {
            "cell_type": "code",
            "source": [
                "predictions = model.predict(X)\r\n",
                "print(predictions)\r\n",
                ""
            ],
            "metadata": {
                "language": "python",
                "azdata_cell_guid": "d1224584-5358-47b2-ac18-a848e158e5be"
            },
            "outputs": [
                {
                    "name": "stdout",
                    "text": "[1 1 1 0 0 1 1 0 1 0 1 1 1 1 1 1 1 1 1 0 0 1 0 1 1 1 1 0 1 1 0 1 0 1 1 1 0\n 0 1 0 1 1 1 1 1 1 0 1 1 0 1 1 1 1 0 1 1 1 1 1 1 1 1 0 0 1 1 0 1 1 1 0 1 1\n 1 0 0 1 0 1 1 1 1 1 0 1 1 0 1 0 1 0 1 1 1 0 0 0 1 1 0 0 1 0 1 1 1 0 1 1 1\n 1 0 1 1 1 1 1 1 1 1 0 1 1 0 1 1 1 0 0 0 1 1 0 1 1 1 0 1 1 1 0 1]\n",
                    "output_type": "stream"
                }
            ],
            "execution_count": 9
        },
        {
            "cell_type": "code",
            "source": [
                "model.score(X,y)\r\n",
                ""
            ],
            "metadata": {
                "language": "python",
                "azdata_cell_guid": "1d0037b4-d723-44b2-94a5-623d8ee67938"
            },
            "outputs": [
                {
                    "data": {
                        "text/plain": "0.958041958041958"
                    },
                    "metadata": {},
                    "execution_count": 10,
                    "output_type": "execute_result"
                }
            ],
            "execution_count": 10
        },
        {
            "cell_type": "code",
            "source": [
                "predictions = model.predict(X_test)\r\n",
                "print(predictions)\r\n",
                "model.score(X_test,y_test)\r\n",
                ""
            ],
            "metadata": {
                "language": "python",
                "azdata_cell_guid": "0bee5928-b871-4812-a2e9-9a1e48243f0c"
            },
            "outputs": [
                {
                    "name": "stdout",
                    "text": "[1 0 0 1 1 1 0 0 0 1 1 0 1 1 0 1 1 1 1 1 1 0 0 1 1 0 1 0 1 1 1 1 1 0 0]\n",
                    "output_type": "stream"
                },
                {
                    "data": {
                        "text/plain": "0.5714285714285714"
                    },
                    "metadata": {},
                    "execution_count": 11,
                    "output_type": "execute_result"
                }
            ],
            "execution_count": 11
        },
        {
            "cell_type": "code",
            "source": [
                "name='Logistic Regression'\r\n",
                "kfold = model_selection.KFold(n_splits=10)\r\n",
                "cv_results = model_selection.cross_val_score(model, X_train, y_train, cv=kfold, scoring='accuracy')\r\n",
                "msg = \"%s: %f (%f)\" % (name, cv_results.mean(), cv_results.std())\r\n",
                "print(msg)\r\n",
                ""
            ],
            "metadata": {
                "language": "python",
                "azdata_cell_guid": "ce2962a5-f7a7-47f6-bfd7-4708218522a4"
            },
            "outputs": [
                {
                    "name": "stdout",
                    "text": "Logistic Regression: 0.636190 (0.137836)\n",
                    "output_type": "stream"
                }
            ],
            "execution_count": 16
        },
        {
            "cell_type": "code",
            "source": [
                "predictions = model.predict(X_test)\r\n",
                "print(accuracy_score(y_test, predictions))\r\n",
                ""
            ],
            "metadata": {
                "language": "python",
                "azdata_cell_guid": "76131d61-da84-4ce9-b082-8706c31a12ed"
            },
            "outputs": [
                {
                    "name": "stdout",
                    "text": "0.5714285714285714\n",
                    "output_type": "stream"
                }
            ],
            "execution_count": 17
        },
        {
            "cell_type": "code",
            "source": [
                "print(confusion_matrix(y_test, predictions))\r\n",
                ""
            ],
            "metadata": {
                "language": "python",
                "azdata_cell_guid": "a7df3a24-949b-4fcb-8c1d-53c360bc0aad"
            },
            "outputs": [
                {
                    "name": "stdout",
                    "text": "[[ 5  7]\n [ 8 15]]\n",
                    "output_type": "stream"
                }
            ],
            "execution_count": 19
        },
        {
            "cell_type": "code",
            "source": [
                "print(classification_report(y_test, predictions))\r\n",
                ""
            ],
            "metadata": {
                "language": "python",
                "azdata_cell_guid": "30dc1865-2a8d-47ad-86e9-57f07f4aafc5"
            },
            "outputs": [
                {
                    "name": "stdout",
                    "text": "              precision    recall  f1-score   support\n\n           0       0.38      0.42      0.40        12\n           1       0.68      0.65      0.67        23\n\n    accuracy                           0.57        35\n   macro avg       0.53      0.53      0.53        35\nweighted avg       0.58      0.57      0.58        35\n\n",
                    "output_type": "stream"
                }
            ],
            "execution_count": 20
        }
    ]
}